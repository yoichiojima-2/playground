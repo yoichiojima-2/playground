{
 "cells": [
  {
   "cell_type": "code",
   "execution_count": null,
   "id": "032c5d01-1fc2-4622-bb52-95b940666795",
   "metadata": {},
   "outputs": [],
   "source": [
    "def greet() -> str:\n",
    "    return \"hello\""
   ]
  }
 ],
 "metadata": {
  "kernelspec": {
   "display_name": "Python 3 (ipykernel)",
   "language": "python",
   "name": "python3"
  },
  "language_info": {
   "codemirror_mode": {
    "name": "ipython",
    "version": 3
   },
   "file_extension": ".py",
   "mimetype": "text/x-python",
   "name": "python",
   "nbconvert_exporter": "python",
   "pygments_lexer": "ipython3",
   "version": "3.12.4"
  }
 },
 "nbformat": 4,
 "nbformat_minor": 5
}
